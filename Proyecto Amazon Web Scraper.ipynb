{
 "cells": [
  {
   "cell_type": "code",
   "execution_count": 25,
   "id": "996f7f05",
   "metadata": {},
   "outputs": [],
   "source": [
    "# importar librerías\n",
    "\n",
    "from bs4 import BeautifulSoup\n",
    "import requests\n",
    "import time\n",
    "import datetime\n",
    "import pandas as pd\n",
    "\n",
    "import smtplib\n"
   ]
  },
  {
   "cell_type": "code",
   "execution_count": 17,
   "id": "7dffe60a",
   "metadata": {},
   "outputs": [
    {
     "name": "stdout",
     "output_type": "stream",
     "text": [
      "\n",
      "            Cecotec Freidora sin Aceite 6 L de Aire Cecofry Experience 6000. 1700 W, Tecnología PerfectCook, Temperatura regulable de 80 a 200ºC, Panel de Control Táctil, 9 Modos, Temporizador\n",
      "           \n",
      "\n",
      "\n",
      "\n",
      "\n",
      "              -21 %\n",
      "             \n",
      "\n",
      "\n",
      "               79,00€\n",
      "              \n",
      "\n",
      "\n",
      "                79\n",
      "                \n",
      "                 ,\n",
      "                \n",
      "\n",
      "\n",
      "                00\n",
      "               \n",
      "\n",
      "                €\n",
      "               \n",
      "\n",
      "\n",
      "\n",
      "\n",
      "\n",
      "\n",
      "               Precio recomendado:\n",
      "               \n",
      "\n",
      "                 99,90€\n",
      "                \n",
      "\n",
      "                 99,90€\n",
      "                \n",
      "\n",
      "\n",
      "\n",
      "\n",
      "\n",
      "\n",
      "\n",
      "\n",
      "\n",
      "\n",
      "\n",
      "\n",
      "\n",
      "\n",
      "\n",
      "\n",
      "\n",
      "\n",
      "\n",
      "                  El\n",
      "                  \n",
      "                   PVPR\n",
      "                  \n",
      "                  o\n",
      "                  \n",
      "                   Precio recomendado\n",
      "                  \n",
      "                  es el precio al  que el fabricante recomienda vender el producto y que ha sido proporcionado por el fabricante,  distribuidor u otro vendedor.\n",
      "                  \n",
      "\n",
      "                   Más información\n",
      "                  \n",
      "\n",
      "\n",
      "\n",
      "\n",
      "\n",
      "\n",
      "\n",
      "\n",
      "\n",
      "\n",
      "\n",
      "\n",
      "\n",
      "\n",
      "                4,5 de 5 estrellas\n",
      "               \n",
      "\n",
      "\n",
      "\n",
      "\n",
      "\n",
      "\n",
      "\n",
      "\n"
     ]
    }
   ],
   "source": [
    "# Conectar al sitio web\n",
    "\n",
    "URL = \"https://www.amazon.es/Cecotec-Cecofry-Experience-PerfectCook-Temporizador/dp/B0B49VX6JJ/ref=sxin_16_pa_sp_search_thematic_sspa?__mk_es_ES=%C3%85M%C3%85%C5%BD%C3%95%C3%91&content-id=amzn1.sym.ff94d3df-787d-4251-b636-785fabe45c9b%3Aamzn1.sym.ff94d3df-787d-4251-b636-785fabe45c9b&crid=1CDA7ONZUMZ3A&cv_ct_cx=freidora+aire&keywords=freidora+aire&pd_rd_i=B0B49VX6JJ&pd_rd_r=73d74113-b2fa-4011-816c-9453b5d511bb&pd_rd_w=Oe04S&pd_rd_wg=uiioW&pf_rd_p=ff94d3df-787d-4251-b636-785fabe45c9b&pf_rd_r=S7BDAN0VY52T2G0YKFQF&qid=1677237673&sprefix=freidora+aire%2Caps%2C861&sr=1-3-a1aca6a1-078c-4f7f-b084-1addcab873fb-spons&sp_csd=d2lkZ2V0TmFtZT1zcF9zZWFyY2hfdGhlbWF0aWM&psc=1\"\n",
    "headers = {\"User-Agent\": \"Mozilla/5.0 (Windows NT 10.0; Win64; x64) AppleWebKit/537.36 (KHTML, like Gecko) Chrome/110.0.0.0 Safari/537.36\"}\n",
    "\n",
    "page = requests.get(URL, headers=headers)\n",
    "\n",
    "soup1 = BeautifulSoup(page.content, \"html.parser\")\n",
    "\n",
    "\n",
    "soup2 = BeautifulSoup(soup1.prettify(), \"html.parser\")\n",
    "\n",
    "title = soup2.find(id = \"productTitle\").get_text()\n",
    "\n",
    "price = soup2.find( id = \"corePriceDisplay_desktop_feature_div\").get_text()\n",
    "\n",
    "rating = soup2.find(id = \"acrPopover\").get_text()\n",
    "\n",
    "print(title)\n",
    "print(price)\n",
    "print(rating)"
   ]
  },
  {
   "cell_type": "code",
   "execution_count": 20,
   "id": "e5ba306c",
   "metadata": {},
   "outputs": [
    {
     "name": "stdout",
     "output_type": "stream",
     "text": [
      "Cecotec Freidora sin Aceite 6 L\n",
      "-21 %\n",
      "4,5 de 5 estrellas\n"
     ]
    }
   ],
   "source": [
    "# Hacer que la información se vea mejor\n",
    "\n",
    "price = price.strip()[0:6]\n",
    "title = title.strip()[0:32]\n",
    "rating = rating.strip()\n",
    "\n",
    "print(title)\n",
    "print(price)\n",
    "print(rating)"
   ]
  },
  {
   "cell_type": "code",
   "execution_count": 21,
   "id": "ad6d918c",
   "metadata": {},
   "outputs": [
    {
     "name": "stdout",
     "output_type": "stream",
     "text": [
      "2023-03-08\n"
     ]
    }
   ],
   "source": [
    "import datetime\n",
    "\n",
    "today = datetime.date.today()\n",
    "\n",
    "print(today)"
   ]
  },
  {
   "cell_type": "code",
   "execution_count": 22,
   "id": "b4b9627f",
   "metadata": {},
   "outputs": [],
   "source": [
    "# Crear un csv donde agregar los datos\n",
    "\n",
    "import csv\n",
    "\n",
    "header = [\"Producto\", \"Precio\", \"Fecha\", \"Valoración\"]\n",
    "data = [title, price, today, rating]\n",
    "\n",
    "with open(\"AmazonDasaset.csv\", \"w\", newline = \"\", encoding = \"UTF\") as f:\n",
    "    writer = csv.writer(f)\n",
    "    writer.writerow(header)\n",
    "    writer.writerow(data)\n"
   ]
  },
  {
   "cell_type": "code",
   "execution_count": 23,
   "id": "63f0465c",
   "metadata": {},
   "outputs": [
    {
     "name": "stdout",
     "output_type": "stream",
     "text": [
      "                          Producto Precio       Fecha          Valoración\n",
      "0  Cecotec Freidora sin Aceite 6 L  -21 %  2023-03-08  4,5 de 5 estrellas\n"
     ]
    }
   ],
   "source": [
    "df = pd.read_csv(r\"C:\\Users\\USUARIO\\AmazonDasaset.csv\")\n",
    "\n",
    "print(df)"
   ]
  },
  {
   "cell_type": "code",
   "execution_count": 24,
   "id": "64142667",
   "metadata": {},
   "outputs": [],
   "source": [
    "# Agregar datos al csv\n",
    "\n",
    "with open(\"AmazonDasaset.csv\", \"a+\", newline = \"\", encoding = \"UTF\") as f:\n",
    "    writer = csv.writer(f)\n",
    "    writer.writerow(data)\n",
    "\n"
   ]
  }
 ],
 "metadata": {
  "kernelspec": {
   "display_name": "Python 3 (ipykernel)",
   "language": "python",
   "name": "python3"
  },
  "language_info": {
   "codemirror_mode": {
    "name": "ipython",
    "version": 3
   },
   "file_extension": ".py",
   "mimetype": "text/x-python",
   "name": "python",
   "nbconvert_exporter": "python",
   "pygments_lexer": "ipython3",
   "version": "3.9.13"
  }
 },
 "nbformat": 4,
 "nbformat_minor": 5
}
